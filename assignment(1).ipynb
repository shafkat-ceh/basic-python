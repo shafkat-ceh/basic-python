{
 "cells": [
  {
   "cell_type": "code",
   "execution_count": 1,
   "id": "c5980bb7-7e0d-4e88-984c-35f9ff6f951b",
   "metadata": {},
   "outputs": [
    {
     "name": "stdout",
     "output_type": "stream",
     "text": [
      "30\n",
      "20\n"
     ]
    }
   ],
   "source": [
    "# Write a program that swaps the values of two variables.\n",
    "x=20\n",
    "y=30\n",
    "print(y)\n",
    "print(x)\n",
    "\n"
   ]
  },
  {
   "cell_type": "code",
   "execution_count": 2,
   "id": "0c79f7df-9457-4b43-882e-aec92fc36f80",
   "metadata": {},
   "outputs": [
    {
     "name": "stdout",
     "output_type": "stream",
     "text": [
      "50\n"
     ]
    }
   ],
   "source": [
    "#Write a program that calculates the area of a rectangle given its length and width.\n",
    "\n",
    "length=10\n",
    "width=5\n",
    "area=length*width\n",
    "print(area)"
   ]
  },
  {
   "cell_type": "code",
   "execution_count": 5,
   "id": "0134444e-679d-403e-9a86-79abcfb4a8e9",
   "metadata": {},
   "outputs": [
    {
     "name": "stdout",
     "output_type": "stream",
     "text": [
      "93.33333333333333\n"
     ]
    }
   ],
   "source": [
    "#Write a program that converts temperature from Fahrenheit to Celsius.\n",
    "F=200\n",
    "C=(F-32)*5/9\n",
    "\n",
    "print(C)"
   ]
  },
  {
   "cell_type": "code",
   "execution_count": 6,
   "id": "d188992d-c884-4ba3-a832-eabff1ffe091",
   "metadata": {},
   "outputs": [
    {
     "name": "stdout",
     "output_type": "stream",
     "text": [
      "41.8879020478639\n"
     ]
    }
   ],
   "source": [
    "#4. Write a program that calculates the volume of a sphere given its radius.\n",
    "from math import pi\n",
    "radius=9\n",
    "volume=(4/3)*pi*(radius^3)\n",
    "print(volume)"
   ]
  },
  {
   "cell_type": "code",
   "execution_count": 1,
   "id": "efd22840-c2c5-4976-bcaf-40654fe7c52b",
   "metadata": {},
   "outputs": [
    {
     "name": "stdout",
     "output_type": "stream",
     "text": [
      "20.0\n"
     ]
    }
   ],
   "source": [
    "#Write a program that finds the average of three numbers.\n",
    "x=30\n",
    "y=20\n",
    "z=10\n",
    "sum=x+y+z\n",
    "average=sum/3\n",
    "print(average)\n"
   ]
  },
  {
   "cell_type": "code",
   "execution_count": 22,
   "id": "f40ad7a8-4cb8-43b8-b14d-a79151302526",
   "metadata": {},
   "outputs": [
    {
     "name": "stdout",
     "output_type": "stream",
     "text": [
      "odd\n"
     ]
    }
   ],
   "source": [
    "#Write a program that determines if a number is even or odd.\n",
    "n=21\n",
    "if n%2==0:\n",
    "    print('even')\n",
    "else:\n",
    "    print('odd')\n"
   ]
  },
  {
   "cell_type": "code",
   "execution_count": 23,
   "id": "4a98db74-674d-4f58-ad83-e5a3b2a91fc4",
   "metadata": {},
   "outputs": [
    {
     "name": "stdout",
     "output_type": "stream",
     "text": [
      "a is the maximum number\n"
     ]
    }
   ],
   "source": [
    "#Write a program that finds the maximum of three numbers.\n",
    "a=30\n",
    "b=20\n",
    "c=10\n",
    "if (a>b) and (a>c):\n",
    "    print('a is the maximum number')\n",
    "\n",
    "elif (b>a)and (b>c):\n",
    "    print('b is the maximum number')\n",
    "\n",
    "else:\n",
    "    print('c is the maximum number')\n",
    "\n",
    "     \n"
   ]
  },
  {
   "cell_type": "code",
   "execution_count": 29,
   "id": "62ea5ff1-e255-4276-bf21-b9383191aac3",
   "metadata": {},
   "outputs": [
    {
     "name": "stdout",
     "output_type": "stream",
     "text": [
      "it is a leap year\n"
     ]
    }
   ],
   "source": [
    "#Write a program that determines if a year is a leap year or not.\n",
    "year=2024\n",
    "if year%4==0 and year%100!=0:\n",
    "    print(\"it is a leap year\")\n",
    "\n",
    "elif year%400==0:\n",
    "    print(\"it is a leap year\")\n",
    "\n",
    "elif year%100==0:\n",
    "    print(\"it is not a leap year\")\n",
    "\n",
    "else:\n",
    "    print(\"it is not a leap year\")\n"
   ]
  },
  {
   "cell_type": "code",
   "execution_count": 31,
   "id": "7f878138-6f44-4398-a75a-94bba9d192af",
   "metadata": {},
   "outputs": [
    {
     "name": "stdout",
     "output_type": "stream",
     "text": [
      "it is negative\n"
     ]
    }
   ],
   "source": [
    "#Write a program that determines if a number is positive, negative, or zero.\n",
    "number=-5\n",
    "if number>0:\n",
    "    print('it is postive')\n",
    "\n",
    "elif number<0:\n",
    "    print('it is negative')\n",
    "\n",
    "elif number==0:\n",
    "    print('it is zero')\n",
    "\n",
    "else:\n",
    "    print('it is not a number')"
   ]
  },
  {
   "cell_type": "code",
   "execution_count": 39,
   "id": "d889ec89-48af-4788-b869-c315e11c5584",
   "metadata": {},
   "outputs": [
    {
     "name": "stdout",
     "output_type": "stream",
     "text": [
      "A+\n"
     ]
    }
   ],
   "source": [
    "#Write a program that calculates the grade based on a given percentage.\n",
    "grade=float('45')\n",
    "if (90>grade and grade<100):\n",
    "            print('A+')\n",
    "elif(80>grade and grade<90):\n",
    "            print('A')\n",
    "\n",
    "elif(70>grade and grade<80):\n",
    "            print('A-')\n",
    "else:\n",
    "            print('fail')\n"
   ]
  },
  {
   "cell_type": "code",
   "execution_count": 2,
   "id": "3e94221a-3bfd-4e9a-a9ef-f962751a084e",
   "metadata": {},
   "outputs": [
    {
     "ename": "IndentationError",
     "evalue": "expected an indented block after function definition on line 2 (994112853.py, line 4)",
     "output_type": "error",
     "traceback": [
      "\u001b[1;36m  Cell \u001b[1;32mIn[2], line 4\u001b[1;36m\u001b[0m\n\u001b[1;33m    if n>0:\u001b[0m\n\u001b[1;37m    ^\u001b[0m\n\u001b[1;31mIndentationError\u001b[0m\u001b[1;31m:\u001b[0m expected an indented block after function definition on line 2\n"
     ]
    }
   ],
   "source": [
    "#Write a program that prints the first `n` natural numbers.\n",
    "def printNumber(n):\n",
    "# check if n is greater than 0.\n",
    "if n>0:\n",
    "# recursively call the printNumber function.\n",
    "printNumber(n - 1)\n",
    "# print n."
   ]
  },
  {
   "cell_type": "code",
   "execution_count": 11,
   "id": "71bd01c1-a728-40e0-82cb-2457e5d24e4e",
   "metadata": {},
   "outputs": [
    {
     "name": "stdout",
     "output_type": "stream",
     "text": [
      "Factorial of 5 is:  120\n"
     ]
    }
   ],
   "source": [
    "#Write a program that calculates the factorial of a number.\n",
    "\n",
    "def factorial(num):\n",
    " \n",
    "    if num == 1:\n",
    "        return 1\n",
    "    else:\n",
    "        return (num * factorial(num - 1))\n",
    "\n",
    "\n",
    "num = 5\n",
    "print(\"Factorial of\", num, \"is: \", factorial(num))"
   ]
  },
  {
   "cell_type": "code",
   "execution_count": 20,
   "id": "c5666b90-dcda-4fd7-b749-8a4fa3b8bcfb",
   "metadata": {},
   "outputs": [
    {
     "name": "stdout",
     "output_type": "stream",
     "text": [
      "1\n",
      "2\n",
      "3\n",
      "4\n",
      "5\n",
      "6\n",
      "7\n",
      "8\n",
      "9\n",
      "10\n",
      "2 data scince\n",
      "3 data scince\n",
      "4 data scince\n",
      "5 data scince\n",
      "1 data scince\n",
      "3 data scince\n",
      "5 data scince\n",
      "7 data scince\n",
      "9 data scince\n"
     ]
    }
   ],
   "source": [
    "#Write a program that generates a Fibonacci sequence of length `n`\n",
    "#use of for loop>>>>(Initialization,Condition,Update)\n",
    "for x in range(10):\n",
    "    print(x+1)\n",
    "\n",
    "\n",
    "\n",
    "\n",
    "for i in range(1,5):\n",
    "    print(i+1,'data scince')\n",
    "\n",
    "\n",
    "\n",
    "\n",
    "#2bar kore barbe.\n",
    "for i in range(1,10,2):\n",
    "    print(i,'data scince')\n",
    "\n",
    "\n",
    "\n",
    "\n"
   ]
  },
  {
   "cell_type": "code",
   "execution_count": 25,
   "id": "2433b444-65be-4989-84c1-3865db35d531",
   "metadata": {},
   "outputs": [
    {
     "name": "stdout",
     "output_type": "stream",
     "text": [
      "data\n",
      "data\n",
      "data\n",
      "data\n",
      "data\n"
     ]
    }
   ],
   "source": [
    "#use of while loop>>> #Initialization\n",
    "                     #while Condition\n",
    "                     #Update\n",
    "i=1\n",
    "while i<10:\n",
    "    print('data')\n",
    "    i=i+2\n"
   ]
  },
  {
   "cell_type": "code",
   "execution_count": 37,
   "id": "84447f03-c892-413b-a60e-63db3a515f41",
   "metadata": {
    "scrolled": true
   },
   "outputs": [
    {
     "name": "stdout",
     "output_type": "stream",
     "text": [
      "table of : 5\n"
     ]
    },
    {
     "name": "stdout",
     "output_type": "stream",
     "text": [
      "5 * 1 = 5\n",
      "5 * 2 = 5\n",
      "5 * 3 = 5\n",
      "5 * 4 = 5\n",
      "5 * 5 = 5\n",
      "5 * 6 = 5\n",
      "5 * 7 = 5\n",
      "5 * 8 = 5\n",
      "5 * 9 = 5\n",
      "5 * 10 = 5\n"
     ]
    }
   ],
   "source": [
    "#Write a program that prints the multiplication table of a given number.\n",
    "def table(no):\n",
    "   for i in range(1,11):\n",
    "       print(no,'*',i,'=',no*1)\n",
    "\n",
    "n=int(input(\"table of :\"))\n",
    "table(n)\n"
   ]
  },
  {
   "cell_type": "code",
   "execution_count": null,
   "id": "385f6c4b-5075-410b-b127-cd07da922a6a",
   "metadata": {},
   "outputs": [],
   "source": [
    "#Write a program that finds the sum of all even numbers between 1 and `n`.\n",
    "\n"
   ]
  },
  {
   "cell_type": "code",
   "execution_count": 40,
   "id": "cc1e1f24-908d-44ae-b782-82588beac40a",
   "metadata": {},
   "outputs": [
    {
     "name": "stdout",
     "output_type": "stream",
     "text": [
      "enter a number: 500\n"
     ]
    },
    {
     "name": "stdout",
     "output_type": "stream",
     "text": [
      "reversed number: 5\n"
     ]
    }
   ],
   "source": [
    "#Write a program that reverses a given number.\n",
    "\n",
    "def reverse_number(n):\n",
    "    reversed_number=0\n",
    "    while n>0:\n",
    "        last_digit=n%10\n",
    "        reversed_number=reversed_number*10+last_digit \n",
    "        n=n//10\n",
    "    return reversed_number\n",
    "\n",
    "number=int(input(\"enter a number:\"))\n",
    "print(\"reversed number:\",reverse_number(number))\n",
    "   "
   ]
  },
  {
   "cell_type": "code",
   "execution_count": null,
   "id": "3b7fa446-73d7-44c7-95f4-62329219339c",
   "metadata": {},
   "outputs": [],
   "source": [
    "#Write a program that checks if a given string, is a palindrome.\n",
    "\n"
   ]
  },
  {
   "cell_type": "code",
   "execution_count": null,
   "id": "c2781621-e615-4ebd-89c7-ec7ab0203172",
   "metadata": {},
   "outputs": [],
   "source": [
    "#Write a program that generates a random number and allows the user to guess it.\n",
    "\n"
   ]
  },
  {
   "cell_type": "code",
   "execution_count": null,
   "id": "6ed5fe81-438e-4c70-8fc1-b94ab3d491cc",
   "metadata": {},
   "outputs": [],
   "source": [
    "#Write a program that finds the greatest common divisor (GCD) of two numbers. \n",
    "\n",
    "\n"
   ]
  },
  {
   "cell_type": "code",
   "execution_count": 3,
   "id": "34e4644c-6d46-4a4b-81fb-bdd8c49b57f2",
   "metadata": {},
   "outputs": [],
   "source": []
  },
  {
   "cell_type": "code",
   "execution_count": null,
   "id": "10b2add1-d91a-4078-8806-b67e15b9da08",
   "metadata": {},
   "outputs": [],
   "source": []
  },
  {
   "cell_type": "code",
   "execution_count": null,
   "id": "ec2d3dc7-64a3-46c1-8d13-5c4d2ff1ced5",
   "metadata": {},
   "outputs": [],
   "source": []
  }
 ],
 "metadata": {
  "kernelspec": {
   "display_name": "Python 3 (ipykernel)",
   "language": "python",
   "name": "python3"
  },
  "language_info": {
   "codemirror_mode": {
    "name": "ipython",
    "version": 3
   },
   "file_extension": ".py",
   "mimetype": "text/x-python",
   "name": "python",
   "nbconvert_exporter": "python",
   "pygments_lexer": "ipython3",
   "version": "3.11.7"
  }
 },
 "nbformat": 4,
 "nbformat_minor": 5
}
